{
 "cells": [
  {
   "cell_type": "markdown",
   "id": "b7ea9abe-fff8-48a7-81e7-1447de6775f9",
   "metadata": {},
   "source": [
    "# Regresión Logística: Detección de Spam\n",
    "\n",
    "A partir de un conjunto de datos **reales** etiquetados (*2007 TREC Public Spam Corpus*) generar un modelo de regresión logística (clasificación) que pueda determinar si un correo dado es SPAM o no."
   ]
  },
  {
   "cell_type": "markdown",
   "id": "2c3c79d9-558b-4cb3-aef8-70f6d11d6082",
   "metadata": {},
   "source": [
    "## 1. Funciones complementarias"
   ]
  },
  {
   "cell_type": "code",
   "execution_count": 1,
   "id": "5ca90ee4-f996-4eb5-b000-5a687675d01b",
   "metadata": {},
   "outputs": [],
   "source": [
    "# Esta clase facilita el preprocesamiento de correos electrónicos que poseen código HTML\n",
    "from html.parser import HTMLParser\n",
    "\n",
    "class MLStripper(HTMLParser):\n",
    "    def __init__(self):\n",
    "        self.reset()\n",
    "        self.strict = False\n",
    "        self.convert_charrefs = True\n",
    "        self.fed = []\n",
    "\n",
    "    def handle_data(self, d):\n",
    "        self.fed.append(d)\n",
    "\n",
    "    def get_data(self):\n",
    "        return ''.join(self.fed)"
   ]
  },
  {
   "cell_type": "code",
   "execution_count": 2,
   "id": "9366fce5-8a85-4c49-9492-aa9254e9d228",
   "metadata": {},
   "outputs": [],
   "source": [
    "# Esta función se encarga de elimar los tags HTML que se encuentren en el texto del correo electrónico\n",
    "def strip_tags(html):\n",
    "    s = MLStripper()\n",
    "    s.feed(html)\n",
    "    return s.get_data()"
   ]
  },
  {
   "cell_type": "code",
   "execution_count": 3,
   "id": "00b3c9bd-e71d-443b-b300-3ff6f9c61b62",
   "metadata": {},
   "outputs": [
    {
     "data": {
      "text/plain": [
       "'Phrack World News'"
      ]
     },
     "execution_count": 3,
     "metadata": {},
     "output_type": "execute_result"
    }
   ],
   "source": [
    "# Ejemplo de eliminación de los tags HTML de un texto\n",
    "t = '<tr><td align=\"left\"><a href=\"../../issues/51/16.html#article\">Phrack World News</a></td>'\n",
    "strip_tags(t)"
   ]
  },
  {
   "cell_type": "code",
   "execution_count": 5,
   "id": "9bfaca4b-ee41-4b46-b4e4-0676e3b9cc20",
   "metadata": {},
   "outputs": [
    {
     "name": "stderr",
     "output_type": "stream",
     "text": [
      "[nltk_data] Downloading package stopwords to /home/ljmor/nltk_data...\n",
      "[nltk_data]   Unzipping corpora/stopwords.zip.\n"
     ]
    }
   ],
   "source": [
    "# Clase encargada de eliminar valores innecesarios como signos de puntuacion\n",
    "# palabras similares pero con diferente conjugacion en el mismo email, etc\n",
    "import email\n",
    "import string\n",
    "import nltk\n",
    "nltk.download('stopwords')\n",
    "\n",
    "class Parser:\n",
    "\n",
    "    def __init__(self):\n",
    "        self.stemmer = nltk.PorterStemmer()\n",
    "        self.stopwords = set(nltk.corpus.stopwords.words('english'))\n",
    "        self.punctuation = list(string.punctuation)\n",
    "\n",
    "    def parse(self, email_path):\n",
    "        \"\"\"Parse an email.\"\"\"\n",
    "        with open(email_path, errors='ignore') as e:\n",
    "            msg = email.message_from_file(e)\n",
    "        return None if not msg else self.get_email_content(msg)\n",
    "\n",
    "    def get_email_content(self, msg):\n",
    "        \"\"\"Extract the email content.\"\"\"\n",
    "        subject = self.tokenize(msg['Subject']) if msg['Subject'] else []\n",
    "        body = self.get_email_body(msg.get_payload(),\n",
    "                                   msg.get_content_type())\n",
    "        content_type = msg.get_content_type()\n",
    "        # Returning the content of the email\n",
    "        return {\"subject\": subject,\n",
    "                \"body\": body,\n",
    "                \"content_type\": content_type}\n",
    "\n",
    "    def get_email_body(self, payload, content_type):\n",
    "        \"\"\"Extract the body of the email.\"\"\"\n",
    "        body = []\n",
    "        if type(payload) is str and content_type == 'text/plain':\n",
    "            return self.tokenize(payload)\n",
    "        elif type(payload) is str and content_type == 'text/html':\n",
    "            return self.tokenize(strip_tags(payload))\n",
    "        elif type(payload) is list:\n",
    "            for p in payload:\n",
    "                body += self.get_email_body(p.get_payload(),\n",
    "                                            p.get_content_type())\n",
    "        return body\n",
    "\n",
    "    def tokenize(self, text):\n",
    "        \"\"\"Transform a text string in tokens. Perform two main actions,\n",
    "        clean the punctuation symbols and do stemming of the text.\"\"\"\n",
    "        for c in self.punctuation:\n",
    "            text = text.replace(c, \"\")\n",
    "        text = text.replace(\"\\t\", \" \")\n",
    "        text = text.replace(\"\\n\", \" \")\n",
    "        tokens = list(filter(None, text.split(\" \")))\n",
    "        # Stemming of the tokens\n",
    "        return [self.stemmer.stem(w) for w in tokens if w not in self.stopwords]"
   ]
  },
  {
   "cell_type": "markdown",
   "id": "6fd6e11f-f52f-4542-b409-45315bb83a8f",
   "metadata": {},
   "source": [
    "### Como se ve un correo electrónico en el conjunto de datos original\n",
    "\n",
    "Este es el formato de un correo tal cual como vendría en el Dataset\n",
    "\n",
    "```\n",
    "\n",
    "From RickyAmes@aol.com  Sun Apr  8 13:07:32 2007\n",
    "Return-Path: <RickyAmes@aol.com>\n",
    "Received: from 129.97.78.23 ([211.202.101.74])\n",
    "\tby speedy.uwaterloo.ca (8.12.8/8.12.5) with SMTP id l38H7G0I003017;\n",
    "\tSun, 8 Apr 2007 13:07:21 -0400\n",
    "Received: from 0.144.152.6 by 211.202.101.74; Sun, 08 Apr 2007 19:04:48 +0100\n",
    "Message-ID: <WYADCKPDFWWTWTXNFVUE@yahoo.com>\n",
    "From: \"Tomas Jacobs\" <RickyAmes@aol.com>\n",
    "Reply-To: \"Tomas Jacobs\" <RickyAmes@aol.com>\n",
    "To: the00@speedy.uwaterloo.ca\n",
    "Subject: Generic Cialis, branded quality@ \n",
    "Date: Sun, 08 Apr 2007 21:00:48 +0300\n",
    "X-Mailer: Microsoft Outlook Express 6.00.2600.0000\n",
    "MIME-Version: 1.0\n",
    "Content-Type: multipart/alternative;\n",
    "\tboundary=\"--8896484051606557286\"\n",
    "X-Priority: 3\n",
    "X-MSMail-Priority: Normal\n",
    "Status: RO\n",
    "Content-Length: 988\n",
    "Lines: 24\n",
    "\n",
    "----8896484051606557286\n",
    "Content-Type: text/html;\n",
    "Content-Transfer-Encoding: 7Bit\n",
    "\n",
    "<html>\n",
    "<body bgcolor=\"#ffffff\">\n",
    "<div style=\"border-color: #00FFFF; border-right-width: 0px; border-bottom-width: 0px; margin-bottom: 0px;\" align=\"center\">\n",
    "<table style=\"border: 1px; border-style: solid; border-color:#000000;\" cellpadding=\"5\" cellspacing=\"0\" bgcolor=\"#CCFFAA\">\n",
    "<tr>\n",
    "<td style=\"border: 0px; border-bottom: 1px; border-style: solid; border-color:#000000;\">\n",
    "<center>\n",
    "Do you feel the pressure to perform and not rising to the occasion??<br>\n",
    "</center>\n",
    "</td></tr><tr>\n",
    "<td bgcolor=#FFFF33 style=\"border: 0px; border-bottom: 1px; border-style: solid; border-color:#000000;\">\n",
    "<center>\n",
    "\n",
    "<b><a href='http://excoriationtuh.com/?lzmfnrdkleks'>Try <span>V</span><span>ia<span></span>gr<span>a</span>.....</a></b></center>\n",
    "</td></tr><td><center>your anxiety will be a thing of the past and you will<br>\n",
    "be back to your old self.\n",
    "</center></td></tr></table></div></body></html>\n",
    "\n",
    "\n",
    "----8896484051606557286--\n",
    "\n",
    "```"
   ]
  },
  {
   "cell_type": "markdown",
   "id": "cc3c8c01-2183-4b42-a21d-88174236689d",
   "metadata": {},
   "source": [
    "### Una vez utlizada nuestra clase de parseo\n",
    "\n",
    "```python3\n",
    "p = Parser()\n",
    "p.parse(\"datasets/trec07p/data/inmail.1\")\n",
    "```\n",
    "\n",
    "El email resultante queda algo asi, palabras del subject y palabras del body:\n",
    "\n",
    "```\n",
    "{'subject': ['gener', 'ciali', 'brand', 'qualiti'],\n",
    " 'body': ['do',\n",
    "  'feel',\n",
    "  'pressur',\n",
    "  'perform',\n",
    "  'rise',\n",
    "  'occas',\n",
    "  'tri',\n",
    "  'viagra',\n",
    "  'anxieti',\n",
    "  'thing',\n",
    "  'past',\n",
    "  'back',\n",
    "  'old',\n",
    "  'self'],\n",
    " 'content_type': 'multipart/alternative'}\n",
    "```"
   ]
  },
  {
   "cell_type": "markdown",
   "id": "3130c2f5-84f2-4138-9042-fafc3c45d0c5",
   "metadata": {},
   "source": [
    "### Leer las etiquetas dadas a los correos por parte del dataset (spam o no)\n",
    "\n",
    "```python3\n",
    "index = open(\"datasets/trec07p/full/index\").readlines()\n",
    "index\n",
    "```\n",
    "Que se ve mas o menos así:\n",
    "\n",
    "```\n",
    "'spam ../data/inmail.1\\n',\n",
    " 'ham ../data/inmail.2\\n',\n",
    " 'spam ../data/inmail.3\\n',\n",
    " 'spam ../data/inmail.4\\n',\n",
    " 'spam ../data/inmail.5\\n',\n",
    " 'spam ../data/inmail.6\\n',\n",
    " 'spam ../data/inmail.7\\n',\n",
    " 'spam ../data/inmail.8\\n',\n",
    " 'spam ../data/inmail.9\\n',\n",
    " 'ham ../data/inmail.10\\n',\n",
    " 'spam ../data/inmail.11\\n',\n",
    " 'spam ../data/inmail.12\\n',....\n",
    "```"
   ]
  },
  {
   "cell_type": "code",
   "execution_count": 8,
   "id": "c1fce909-1408-4a5e-b515-56190f484d6d",
   "metadata": {},
   "outputs": [],
   "source": [
    "# Funcion para parsear el array donde se etiqueta a los correos y generar un diccionario\n",
    "# clave-valor donde este el label (spam o no) y el email que le corresponde\n",
    "import os\n",
    "\n",
    "DATASET_PATH = os.path.join(\"datasets\", \"trec07p\")\n",
    "\n",
    "def parse_index(path_to_index, n_elements):\n",
    "    ret_indexes = []\n",
    "    index = open(path_to_index).readlines()\n",
    "    for i in range(n_elements):\n",
    "        mail = index[i].split(\" ../\")\n",
    "        label = mail[0]\n",
    "        path = mail[1][:-1]\n",
    "        path_mail = path.split(\"/\")[-1]\n",
    "        ret_indexes.append({\"label\":label, \"email_path\":os.path.join(DATASET_PATH, os.path.join(\"data\", path_mail))})\n",
    "    return ret_indexes"
   ]
  },
  {
   "cell_type": "markdown",
   "id": "75f54d38-14f6-4f77-936a-d194c56c57de",
   "metadata": {},
   "source": [
    "### Como queda el arreglo de etiquetas parseado\n",
    "\n",
    "El arrglo de etiquetas queda como un diccionario así:\n",
    "\n",
    "```python3\n",
    "indexes = parse_index(\"datasets/trec07p/full/index\", 10)\n",
    "indexes\n",
    "```\n",
    "\n",
    "```\n",
    "[{'label': 'spam', 'email_path': 'datasets\\\\trec07p\\\\data\\\\inmail.1'},\n",
    " {'label': 'ham', 'email_path': 'datasets\\\\trec07p\\\\data\\\\inmail.2'},\n",
    " {'label': 'spam', 'email_path': 'datasets\\\\trec07p\\\\data\\\\inmail.3'},\n",
    " {'label': 'spam', 'email_path': 'datasets\\\\trec07p\\\\data\\\\inmail.4'},\n",
    " {'label': 'spam', 'email_path': 'datasets\\\\trec07p\\\\data\\\\inmail.5'},\n",
    " {'label': 'spam', 'email_path': 'datasets\\\\trec07p\\\\data\\\\inmail.6'},\n",
    " {'label': 'spam', 'email_path': 'datasets\\\\trec07p\\\\data\\\\inmail.7'},\n",
    " {'label': 'spam', 'email_path': 'datasets\\\\trec07p\\\\data\\\\inmail.8'},\n",
    " {'label': 'spam', 'email_path': 'datasets\\\\trec07p\\\\data\\\\inmail.9'},\n",
    " {'label': 'ham', 'email_path': 'datasets\\\\trec07p\\\\data\\\\inmail.10'}]\n",
    "```"
   ]
  },
  {
   "cell_type": "markdown",
   "id": "f9a45c95-fa6c-41e4-857e-db1b473e5fdd",
   "metadata": {},
   "source": [
    "## Preprocesar los datos del dataset"
   ]
  },
  {
   "cell_type": "code",
   "execution_count": 10,
   "id": "e83d6ab6-5124-4a5f-b022-a95ecb409fa1",
   "metadata": {},
   "outputs": [
    {
     "ename": "FileNotFoundError",
     "evalue": "[Errno 2] No such file or directory: 'datasets/trec07p/full/index'",
     "output_type": "error",
     "traceback": [
      "\u001b[0;31m---------------------------------------------------------------------------\u001b[0m",
      "\u001b[0;31mFileNotFoundError\u001b[0m                         Traceback (most recent call last)",
      "Cell \u001b[0;32mIn[10], line 2\u001b[0m\n\u001b[1;32m      1\u001b[0m \u001b[38;5;66;03m# Cargar indice y etiquetas en memoria\u001b[39;00m\n\u001b[0;32m----> 2\u001b[0m index \u001b[38;5;241m=\u001b[39m parse_index(\u001b[38;5;124m'\u001b[39m\u001b[38;5;124mdatasets/trec07p/full/index\u001b[39m\u001b[38;5;124m'\u001b[39m, \u001b[38;5;241m1\u001b[39m)\n",
      "Cell \u001b[0;32mIn[8], line 9\u001b[0m, in \u001b[0;36mparse_index\u001b[0;34m(path_to_index, n_elements)\u001b[0m\n\u001b[1;32m      7\u001b[0m \u001b[38;5;28;01mdef\u001b[39;00m \u001b[38;5;21mparse_index\u001b[39m(path_to_index, n_elements):\n\u001b[1;32m      8\u001b[0m     ret_indexes \u001b[38;5;241m=\u001b[39m []\n\u001b[0;32m----> 9\u001b[0m     index \u001b[38;5;241m=\u001b[39m \u001b[38;5;28mopen\u001b[39m(path_to_index)\u001b[38;5;241m.\u001b[39mreadlines()\n\u001b[1;32m     10\u001b[0m     \u001b[38;5;28;01mfor\u001b[39;00m i \u001b[38;5;129;01min\u001b[39;00m \u001b[38;5;28mrange\u001b[39m(n_elements):\n\u001b[1;32m     11\u001b[0m         mail \u001b[38;5;241m=\u001b[39m index[i]\u001b[38;5;241m.\u001b[39msplit(\u001b[38;5;124m\"\u001b[39m\u001b[38;5;124m ../\u001b[39m\u001b[38;5;124m\"\u001b[39m)\n",
      "File \u001b[0;32m~/anaconda3/envs/curso_deep_learning/lib/python3.12/site-packages/IPython/core/interactiveshell.py:324\u001b[0m, in \u001b[0;36m_modified_open\u001b[0;34m(file, *args, **kwargs)\u001b[0m\n\u001b[1;32m    317\u001b[0m \u001b[38;5;28;01mif\u001b[39;00m file \u001b[38;5;129;01min\u001b[39;00m {\u001b[38;5;241m0\u001b[39m, \u001b[38;5;241m1\u001b[39m, \u001b[38;5;241m2\u001b[39m}:\n\u001b[1;32m    318\u001b[0m     \u001b[38;5;28;01mraise\u001b[39;00m \u001b[38;5;167;01mValueError\u001b[39;00m(\n\u001b[1;32m    319\u001b[0m         \u001b[38;5;124mf\u001b[39m\u001b[38;5;124m\"\u001b[39m\u001b[38;5;124mIPython won\u001b[39m\u001b[38;5;124m'\u001b[39m\u001b[38;5;124mt let you open fd=\u001b[39m\u001b[38;5;132;01m{\u001b[39;00mfile\u001b[38;5;132;01m}\u001b[39;00m\u001b[38;5;124m by default \u001b[39m\u001b[38;5;124m\"\u001b[39m\n\u001b[1;32m    320\u001b[0m         \u001b[38;5;124m\"\u001b[39m\u001b[38;5;124mas it is likely to crash IPython. If you know what you are doing, \u001b[39m\u001b[38;5;124m\"\u001b[39m\n\u001b[1;32m    321\u001b[0m         \u001b[38;5;124m\"\u001b[39m\u001b[38;5;124myou can use builtins\u001b[39m\u001b[38;5;124m'\u001b[39m\u001b[38;5;124m open.\u001b[39m\u001b[38;5;124m\"\u001b[39m\n\u001b[1;32m    322\u001b[0m     )\n\u001b[0;32m--> 324\u001b[0m \u001b[38;5;28;01mreturn\u001b[39;00m io_open(file, \u001b[38;5;241m*\u001b[39margs, \u001b[38;5;241m*\u001b[39m\u001b[38;5;241m*\u001b[39mkwargs)\n",
      "\u001b[0;31mFileNotFoundError\u001b[0m: [Errno 2] No such file or directory: 'datasets/trec07p/full/index'"
     ]
    }
   ],
   "source": [
    "# Cargar indice y etiquetas en memoria\n",
    "index = parse_index('datasets/trec07p/full/index', 1)"
   ]
  },
  {
   "cell_type": "code",
   "execution_count": null,
   "id": "9f107388-9ced-4847-b2db-f7db7583a8b8",
   "metadata": {},
   "outputs": [],
   "source": []
  }
 ],
 "metadata": {
  "kernelspec": {
   "display_name": "Python 3 (ipykernel)",
   "language": "python",
   "name": "python3"
  },
  "language_info": {
   "codemirror_mode": {
    "name": "ipython",
    "version": 3
   },
   "file_extension": ".py",
   "mimetype": "text/x-python",
   "name": "python",
   "nbconvert_exporter": "python",
   "pygments_lexer": "ipython3",
   "version": "3.12.7"
  }
 },
 "nbformat": 4,
 "nbformat_minor": 5
}
